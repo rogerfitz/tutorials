{
 "cells": [
  {
   "cell_type": "code",
   "execution_count": 6,
   "metadata": {
    "collapsed": true
   },
   "outputs": [],
   "source": [
    "import smtplib\n",
    "import imaplib\n",
    "import email\n",
    "#copy the placeholder to config.py and fill in your values\n",
    "from config import EMAIL_ADDRESS, EMAIL_PASSWORD, PHONE_ADDRESS\n",
    "SMTP_SERVER='smtp.gmail.com'"
   ]
  },
  {
   "cell_type": "markdown",
   "metadata": {},
   "source": [
    "# Sending Texts"
   ]
  },
  {
   "cell_type": "code",
   "execution_count": 2,
   "metadata": {},
   "outputs": [
    {
     "data": {
      "text/plain": [
       "(235, b'2.7.0 Accepted')"
      ]
     },
     "execution_count": 2,
     "metadata": {},
     "output_type": "execute_result"
    }
   ],
   "source": [
    "#authenticate with smtp server\n",
    "#note that this does not handle reauthenticating when google wants you to\n",
    "server = smtplib.SMTP_SSL(SMTP_SERVER, 465)\n",
    "server.ehlo()\n",
    "server.login(EMAIL_ADDRESS, EMAIL_PASSWORD)"
   ]
  },
  {
   "cell_type": "code",
   "execution_count": 3,
   "metadata": {},
   "outputs": [
    {
     "data": {
      "text/plain": [
       "{}"
      ]
     },
     "execution_count": 3,
     "metadata": {},
     "output_type": "execute_result"
    }
   ],
   "source": [
    "#Send a text\n",
    "server.sendmail(EMAIL_ADDRESS, PHONE_ADDRESS, \"Hello friend\")"
   ]
  },
  {
   "cell_type": "markdown",
   "metadata": {},
   "source": [
    "### Check your phone!  \n",
    "For whatever reason the core python team decided  {} means success and send mail should follow the standard underscore format. Go figure"
   ]
  },
  {
   "cell_type": "markdown",
   "metadata": {},
   "source": [
    "# Receiving Texts"
   ]
  },
  {
   "cell_type": "code",
   "execution_count": 7,
   "metadata": {},
   "outputs": [
    {
     "data": {
      "text/plain": [
       "('OK', [b'byebyetwilio@gmail.com authenticated (Success)'])"
      ]
     },
     "execution_count": 7,
     "metadata": {},
     "output_type": "execute_result"
    }
   ],
   "source": [
    "mail = imaplib.IMAP4_SSL(SMTP_SERVER)\n",
    "mail.login(EMAIL_ADDRESS, EMAIL_PASSWORD)"
   ]
  },
  {
   "cell_type": "code",
   "execution_count": 10,
   "metadata": {},
   "outputs": [
    {
     "data": {
      "text/plain": [
       "('OK', [b'1'])"
      ]
     },
     "execution_count": 10,
     "metadata": {},
     "output_type": "execute_result"
    }
   ],
   "source": [
    "#let's look at your mailbox\n",
    "mail.select('inbox')"
   ]
  },
  {
   "cell_type": "code",
   "execution_count": 11,
   "metadata": {},
   "outputs": [
    {
     "data": {
      "text/plain": [
       "[b'1']"
      ]
     },
     "execution_count": 11,
     "metadata": {},
     "output_type": "execute_result"
    }
   ],
   "source": [
    "#uh oh byte strings. That's not human\n",
    "#Now let's get our messages\n",
    "_, ids = mail.search(None, \"ALL\")\n",
    "ids"
   ]
  },
  {
   "cell_type": "code",
   "execution_count": 13,
   "metadata": {},
   "outputs": [
    {
     "data": {
      "text/plain": [
       "[(b'1 (RFC822 {40227}',\n",
       "  b'Delivered-To: byebyetwilio@gmail.com\\r\\nReceived: by 10.140.102.167 with SMTP id w36csp3422969qge;\\r\\n        Sun, 11 Feb 2018 17:45:49 -0800 (PST)\\r\\nX-Received: by 10.107.7.87 with SMTP id 84mr4707810ioh.216.1518399948399;\\r\\n        Sun, 11 Feb 2018 17:45:48 -0800 (PST)\\r\\nARC-Seal: i=1; a=rsa-sha256; t=1518399948; cv=none;\\r\\n        d=google.com; s=arc-20160816;\\r\\n        b=r/9CMSzgQB5leVkxRMpjOnzpOqk6kONQtQ71quDi3GApGg7HpICedpFlm/AeNMQh83\\r\\n         8ZVrr+DObLFp3QzAizN7iQqRf4M3mOe28bE5yGakGDGYjBONxBs4F1i164aK8sT8bdPX\\r\\n         wmxpX9dI/A9ZJJ9GXu+ge64gDkM05VxMJFsrDZcRa2PQZAvJRutymoUWABXzlRmnYpNQ\\r\\n         JBnSWvNXpSxcduktXXPgwKXGGoOecQ/Joi528wJwpfxTtngtip6xC6NEUUBpBw9FL3YN\\r\\n         GJvVvG4IjRDNrOJhjrnix18pl1IIij5BOupMAu5DFZLd1WXX7LOczZEBVqWg5PFp9Gjc\\r\\n         Up2Q==\\r\\nARC-Message-Signature: i=1; a=rsa-sha256; c=relaxed/relaxed; d=google.com; s=arc-20160816;\\r\\n        h=to:from:subject:message-id:feedback-id:reply-to:date:mime-version\\r\\n         :dkim-signature:arc-authentication-results;\\r\\n        bh=0R0ZpBdpOA+eWDbE5SQE4c3G36iHkynh/HeqqK+I0dk=;\\r\\n        b=GJEkcCNHHXSs1nK7zZ+OsrXy0/KOZ56m+pJlJnbPgg5rBfeuaTZ49sZyTkc0KNPrEf\\r\\n         nw/lmkWPHowJldLWrK6S8aKQTCRmdqa5cEGEx1Ru02rIWs/W77HB5wA72FaGHui9l0nS\\r\\n         TA8h1r9K+i59NNaWDypm6GcuzsAGS7OuUtqzuUs3WYeeIsbDEJ56Q5LQvaOF/2PmeYeO\\r\\n         xui220SfcHL3qhD2UNMdAc8Eo58KItV34OFsZc/8Ng4DVGiVMy3ZhipV4Mxb3G+Za1wT\\r\\n         jNc/CouKChXDKD26mYqWMPYBN/nceXSOyJFjWJLovid8+PtvRkQlUQ4OQuMlGe2fliRm\\r\\n         K9FQ==\\r\\nARC-Authentication-Results: i=1; mx.google.com;\\r\\n       dkim=pass header.i=@google.com header.s=20161025 header.b=FEgdGNUK;\\r\\n       spf=pass (google.com: domain of 3xfgawgwkdiykxn8-xy1ozv8qyyqvo.mywl8ol8o36svsyqwksv.myw@scoutcamp.bounces.google.com designates 209.85.220.69 as permitted sender) smtp.mailfrom=3xfGAWgwKDIYkxn8-xy1ozv8qyyqvo.mywl8ol8o36svsyqwksv.myw@scoutcamp.bounces.google.com;\\r\\n       dmarc=pass (p=REJECT sp=REJECT dis=NONE) header.from=google.com\\r\\nReturn-Path: <3xfGAWgwKDIYkxn8-xy1ozv8qyyqvo.mywl8ol8o36svsyqwksv.myw@scoutcamp.bounces.google.com>\\r\\nReceived: from mail-sor-f69.google.com (mail-sor-f69.google.com. [209.85.220.69])\\r\\n        by mx.google.com with SMTPS id a69sor2734770itc.49.2018.02.11.17.45.41\\r\\n        for <byebyetwilio@gmail.com>\\r\\n        (Google Transport Security);\\r\\n        Sun, 11 Feb 2018 17:45:48 -0800 (PST)\\r\\nReceived-SPF: pass (google.com: domain of 3xfgawgwkdiykxn8-xy1ozv8qyyqvo.mywl8ol8o36svsyqwksv.myw@scoutcamp.bounces.google.com designates 209.85.220.69 as permitted sender) client-ip=209.85.220.69;\\r\\nAuthentication-Results: mx.google.com;\\r\\n       dkim=pass header.i=@google.com header.s=20161025 header.b=FEgdGNUK;\\r\\n       spf=pass (google.com: domain of 3xfgawgwkdiykxn8-xy1ozv8qyyqvo.mywl8ol8o36svsyqwksv.myw@scoutcamp.bounces.google.com designates 209.85.220.69 as permitted sender) smtp.mailfrom=3xfGAWgwKDIYkxn8-xy1ozv8qyyqvo.mywl8ol8o36svsyqwksv.myw@scoutcamp.bounces.google.com;\\r\\n       dmarc=pass (p=REJECT sp=REJECT dis=NONE) header.from=google.com\\r\\nDKIM-Signature: v=1; a=rsa-sha256; c=relaxed/relaxed;\\r\\n        d=google.com; s=20161025;\\r\\n        h=mime-version:date:reply-to:feedback-id:message-id:subject:from:to;\\r\\n        bh=0R0ZpBdpOA+eWDbE5SQE4c3G36iHkynh/HeqqK+I0dk=;\\r\\n        b=FEgdGNUKtYPt1casm28+I5vngwYiL7yEHYOEWtjsZafW4iRQUM+V6VJzrQn9EsS09t\\r\\n         0wRcfwdk42y9n/sB3Ojzl5b3G8c3WmbyO0Ylt3emImEpR+Pdtvs4s2HhadvZq3r2qqPq\\r\\n         3HKH5P6I7/36RUqw9fmZx98VidAspf6xMMeHvScqmyQBvzh1Wl9J6SPa4OnraHXSVF/1\\r\\n         bluntQk9MJd/OEKvCzTpoBakXz/4z0T2TO9UPqOszDQ6y/Jma3O6xbraQ9vqjDUoedAy\\r\\n         cXTy9YQFGjQ51hQInFyG/9/tZh1QDDmv6CkzdWqEQ+5Q/Dtyh6EFWux9MEnXOTexxjjV\\r\\n         gnFg==\\r\\nX-Google-DKIM-Signature: v=1; a=rsa-sha256; c=relaxed/relaxed;\\r\\n        d=1e100.net; s=20161025;\\r\\n        h=x-gm-message-state:mime-version:date:reply-to:feedback-id\\r\\n         :message-id:subject:from:to;\\r\\n        bh=0R0ZpBdpOA+eWDbE5SQE4c3G36iHkynh/HeqqK+I0dk=;\\r\\n        b=NpaAJ6VD+LPr1iOGz5B4GTszrkzGWCLV9zeKvuTw2PGkOCXvyzsnkl4cVFtIJpKz0K\\r\\n         9PHeZ6KUutntSKfqT7Os4rWuDWg86Tc4errdx/3U8Xnb6vIVMLnVJvIMHyjlpRtNhOpu\\r\\n         /wF/pyxCOr5vfqIpfa3iYeZdCLTUrSMhMvtMPCevKXW/dTjgKBY2nX03QQ0suTs3+8Vv\\r\\n         E6lG4iHGP6f8QirQkkBcNMhC9kvqIEDKAD3bMGk+4UMvRW50+RfOwLr1Z90cFcQime6v\\r\\n         rB/J+pcN0mYaZeXX/jgnxvzMgMRfC5o0BLmhvIacdec/kTVXcsl1Zp5ppgc4UFaWwWej\\r\\n         ktzg==\\r\\nX-Gm-Message-State: APf1xPB/MfGNAgB3EcJMhwGEncpkMu5ulNAly6U5gxk0IwyPiuvdgf2D\\r\\n\\thTOUfkIsRYsu0Og=\\r\\nX-Google-Smtp-Source: AH8x225AfWVxO9pFRJIwdpvDO8xB98TTwcMeJ2NxKIhfL8IDLvxAdkW1Eig3LDg/qpks7GIXJo5p1q8=\\r\\nMIME-Version: 1.0\\r\\nX-Received: by 10.36.179.67 with SMTP id z3mr2928110iti.12.1518399941470; Sun,\\r\\n 11 Feb 2018 17:45:41 -0800 (PST)\\r\\nDate: Sun, 11 Feb 2018 17:45:41 -0800\\r\\nReply-To: Andy from Google <andy-noreply@google.com>\\r\\nX-Google-Id: 22180514\\r\\nFeedback-ID: Len:D422018:C377502:gamma\\r\\nX-Notifications: GAMMA:<7194d6704610335d.1518399941122.110277581.377502.en.593772a4d6bfb019@google.com>\\r\\nMessage-ID: <7194d6704610335d.1518399941122.110277581.377502.en.593772a4d6bfb019@google.com>\\r\\nSubject: Super, welcome to your new Google Account\\r\\nFrom: Andy from Google <andy-noreply@google.com>\\r\\nTo: byebyetwilio@gmail.com\\r\\nContent-Type: multipart/alternative; boundary=\"089e08200610236cc50564fa09c9\"\\r\\n\\r\\n--089e08200610236cc50564fa09c9\\r\\nContent-Type: text/plain; charset=\"UTF-8\"; format=flowed; delsp=yes\\r\\nContent-Transfer-Encoding: base64\\r\\n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\\r\\nIGEgR29vZ2xlIEFjY291bnQuDQo=\\r\\n--089e08200610236cc50564fa09c9\\r\\nContent-Type: text/html; charset=\"UTF-8\"\\r\\nContent-Transfer-Encoding: quoted-printable\\r\\n\\r\\n<!DOCTYPE HTML PUBLIC \"-//W3C//DTD XHTML 1.0 Transitional //EN\" \"http://www=\\r\\n.w3.org/TR/xhtml1/DTD/xhtml1-transitional.dtd\">\\r\\n<html>\\r\\n    <head>\\r\\n    <meta http-equiv=3D\"Content-Type\" content=3D\"text/html; charset=3Dutf-8=\\r\\n\">\\r\\n    <meta name=3D\"viewport\" content=3D\"width=3Ddevice-width, initial-scale=\\r\\n=3D1, maximum-scale=3D1\">\\r\\n    <!--<meta name=3D\"viewport\" content=3D\"width=3Ddevice-width, initial-sc=\\r\\nale=3D1.0\"/>\\r\\n    <meta name=3D\"viewport\" content=3D\"target-densitydpi=3Ddevice-dpi\"/> --=\\r\\n>\\r\\n    <title>Get more from your new Google Account</title>\\r\\n</head>\\r\\n<body style=3D\"padding: 0; margin: 0;\">\\r\\n    <style>\\r\\n@media screen{@font-face{font-family:\\'Open Sans\\';font-style:normal;font-wei=\\r\\nght:300;src:local(\\'Open Sans Light\\'),local(\\'OpenSans-Light\\'),url(http://fon=\\r\\nts.gstatic.com/s/opensans/v9/DXI1ORHCpsQm3Vp6mXoaTRampu5_7CjHW5spxoeN3Vs.wo=\\r\\nff2) format(\\'woff2\\'),url(http://fonts.gstatic.com/s/opensans/v9/DXI1ORHCpsQ=\\r\\nm3Vp6mXoaTaRDOzjiPcYnFooOUGCOsRk.woff) format(\\'woff\\')}}body{padding:0;margi=\\r\\nn:0}@media only screen and (max-width:520px){-webkit-text-size-adjust:100%}\\r\\n</style>\\r\\n<center>\\r\\n<table border=3D\"0\" cellspacing=3D\"0\" cellpadding=3D\"0\" align=3D\"center\" wi=\\r\\ndth=3D\"520\" bgcolor=3D\"#ffffff\" style=3D\"background: #ffffff; max-width: 52=\\r\\n0px; -webkit-font-smoothing: antialiased; -webkit-text-size-adjust: none; -=\\r\\nms-text-size-adjust: 100%;\">\\r\\n  <tr>\\r\\n    <td width=3D\"21\" bgcolor=3D\"#eeeeee\" style=3D\"background: #eeeeee;\">&nb=\\r\\nsp;</td>\\r\\n\\t\\t<td width=3D\"480\" style=3D\"-webkit-font-smoothing: antialiased; -webkit-t=\\r\\next-size-adjust: none; -ms-text-size-adjust: 100%;\">\\r\\n\\t\\t\\t<table border=3D\"0\" cellspacing=3D\"0\" cellpadding=3D\"0\" width=3D\"100%\">\\r\\n\\t\\t\\t\\t<tr>\\r\\n\\t\\t\\t\\t\\t<td height=3D\"20\" bgcolor=3D\"#eeeeee\" style=3D\"background: #eeeeee;\"><=\\r\\n/td>\\r\\n\\t\\t\\t\\t</tr>\\r\\n\\t\\t\\t\\t<tr>\\r\\n\\t\\t\\t\\t\\t<td>\\r\\n  \\t\\t\\t\\t <table border=3D\"0\" cellspacing=3D\"0\" cellpadding=3D\"0\" align=3D\"cen=\\r\\nter\" width=3D\"100%\" style=3D\"border-bottom: 1px solid #eeeeee;\">\\r\\n            <tr>\\r\\n    \\t\\t\\t    <td height=3D\"49\"></td>\\r\\n             </tr>\\r\\n             <tr>\\r\\n      \\t\\t    <td align=3D\"center\" class=3D\"whom\" style=3D\\'color:#4285f4; fon=\\r\\nt-family:\"Roboto\", OpenSans, \"Open Sans\", Arial, sans-serif; font-size:32px=\\r\\n; font-weight:300; line-height:46px; margin:0; padding:0 25px 0 25px; text-=\\r\\nalign:center\\'>Hi Super,</td>\\r\\n             </tr>\\r\\n             <!--[if !mso]><!-- -->\\r\\n              <tr>\\r\\n        \\t      <td height=3D\"20\"></td>\\r\\n              </tr>\\r\\n            <!--<![endif]-->\\r\\n           =20\\r\\n            <!--[if mso]>\\r\\n              <tr>\\r\\n                <td height=3D\"7\">&nbsp;</td>\\r\\n              </tr>\\r\\n            <![endif]-->\\r\\n            <tr>\\r\\n      \\t\\t    <td align=3D\"center\" class=3D\"parasec\" style=3D\\'color:#757575; =\\r\\nfont-family:\"Roboto\", OpenSans, \"Open Sans\", Arial, sans-serif; font-size:1=\\r\\n7px; font-weight:300; line-height:24px; margin:0; padding:0 25px 0 25px; te=\\r\\nxt-align:center\\'> I=E2=80=99m so glad you decided to try out Gmail.  Here a=\\r\\nre a few tips to get you up and running fast.</td>\\r\\n             </tr>\\r\\n             <tr>\\r\\n      \\t\\t    <td height=3D\"30\">\\r\\n\\r\\n</td>\\r\\n             </tr>\\r\\n            =20\\r\\n  \\t\\t\\t\\t </table>\\r\\n\\t\\t\\t\\t\\t</td>\\r\\n\\t\\t\\t\\t</tr>\\r\\n        <tr>\\r\\n          <td>\\r\\n            <table border=3D\"0\" cellspacing=3D\"0\" cellpadding=3D\"0\" align=\\r\\n=3D\"center\" width=3D\"100%\" style=3D\"border-bottom: 1px solid #eeeeee;\">\\r\\n            <tr>\\r\\n      \\t\\t    <td height=3D\"32\"></td>\\r\\n             </tr>\\r\\n             <tr>\\r\\n      \\t\\t    <td align=3D\"center\">\\r\\n              <a href=3D\"https://www.google.com/appserve/mkt/p/AFOm0uGNZnPy=\\r\\nRpP81kes49cwMJr7dMZIE0LskeCmVgNvjsKIORzwt9AftTzhYGnh8_MssOoSgAeN6AO-KqXDy_I=\\r\\nlm0WK9RQRz6BE7tWV17Ng1LFcB14tSrKds7Ls6_DNZuKb0IgTr9bmQcIx-oEeLhjmg3Cxk4Bsje=\\r\\n6l3lfquNR6upXUMA\" target=3D\"_blank\" style=3D\"color:#4285f4; text-decoration=\\r\\n:underline\">\\r\\n              <img width=3D\"64\" border=3D\"0\" src=3D\"https://services.google=\\r\\n.com/fh/files/emails/owe_gmail_128dp.png\" alt=3D\"Gmail\" style=3D\"width: 64p=\\r\\nx; text-align: center; border: none;\">\\r\\n              </a>\\r\\n              </td>\\r\\n             </tr>\\r\\n             <tr>\\r\\n      \\t\\t    <td height=3D\"15\"></td>\\r\\n             </tr>\\r\\n             <tr>\\r\\n      \\t\\t    <td align=3D\"center\" class=3D\"paraheading\" style=3D\\'color:#7575=\\r\\n75; font-family:\"Roboto\", OpenSans, \"Open Sans\", Arial, sans-serif; font-si=\\r\\nze:24px; font-weight:300; line-height:33px; margin:0; padding:0 25px 0 25px=\\r\\n; text-align:center\\'>Gmail on the go</td>\\r\\n             </tr>\\r\\n             <tr>\\r\\n      \\t\\t    <td height=3D\"4\" style=3D\"line-height: 4px; font-size: 4px;\"></=\\r\\ntd>\\r\\n             </tr>\\r\\n             <tr>\\r\\n               <td align=3D\"center\" class=3D\"para\" style=3D\\'color:#757575; =\\r\\nfont-family:\"Roboto\", OpenSans, \"Open Sans\", Arial, sans-serif; font-size:1=\\r\\n7px; font-weight:300; line-height:24px; margin:0; padding:0 25px 0 25px; te=\\r\\nxt-align:center\\'> With Gmail for <a href=3D\"https://www.google.com/appserve=\\r\\n/mkt/p/AFOm0uHGCjVg1tfjcabw91iJps-5JMuGlZcf-VOO1BrNuX_tHk4cXvPwkm-0qoeRSmCG=\\r\\ntulubZn1HUU9UvYWDRXTx48Tx4zdO1rT_ceLtbd2l0paya4jsqBNlzSDQBEhqniEXyGvQcMmw_4=\\r\\n3RuM6MN84D5WKOj0NCZandtZRwzP6qlridPezdM7Czmd1a_tAzlkfv5YVsNkiuWIYh-nh3yn6uy=\\r\\njvMMQ\" target=3D\"_blank\" style=3D\"color:#4285f4; text-decoration:underline\"=\\r\\n>Android</a> and <a href=3D\"https://www.google.com/appserve/mkt/p/AFOm0uGOn=\\r\\nSIbCDHqBzs-v-9kIYKb1O034CN4xueMmEy2Kcb6w2IJy5kBXYv4gOq0uv0SYIYgMM1Nx953aRSF=\\r\\nREpbisjFAxAR_emIeR86q8HGj7Bk5WDkp9ZTvDv5SC_yF7DhtkDdwh9HYf_NQkqJ_KvgFmD20Bf=\\r\\n0Tk6CdX51dddF1Pl2ivr_6Q\" target=3D\"_blank\" style=3D\"color:#4285f4; text-dec=\\r\\noration:underline\">iOS</a>, you get real-time notifications so you don\\'t mi=\\r\\nss important emails.</td>\\r\\n             </tr>\\r\\n             <tr>\\r\\n        \\t    <td height=3D\"30\"></td>\\r\\n             </tr>\\r\\n           </table>\\r\\n          </td>\\r\\n        </tr>\\r\\n        <tr>\\r\\n          <td>\\r\\n            <table border=3D\"0\" cellspacing=3D\"0\" cellpadding=3D\"0\" align=\\r\\n=3D\"center\" width=3D\"100%\" style=3D\"border-bottom: 1px solid #eeeeee;\">\\r\\n            <tr>\\r\\n        \\t    <td height=3D\"32\"></td>\\r\\n             </tr>\\r\\n             <tr>\\r\\n      \\t\\t    <td align=3D\"center\">\\r\\n              <a href=3D\"https://www.google.com/appserve/mkt/p/AFOm0uGSPH9Q=\\r\\nA3J5bjxv62M0Ouud9ZqU_oid3BGu8HX6DijeN_arcIAz_BvhW8c-SfreHnQp7MrL15dd9bOkfSo=\\r\\n64Me_7CWqDdb3TaS72zd7JUEaIedBrjia77SxqLmjxWIb82NNSIkJg2QEsl0mHma5gLZFBW6SDL=\\r\\nrf3J2yp2xSjbQWl9J9F8aEPzxtLe0\" target=3D\"_blank\" style=3D\"color:#4285f4; te=\\r\\nxt-decoration:underline\">\\r\\n             <img width=3D\"64\" border=3D\"0\" src=3D\"https://www.gstatic.com/=\\r\\nimages/branding/product/2x/photos_48dp.png\" alt=3D\"Photos\" style=3D\"width: =\\r\\n64px; text-align: center; border: none;\">\\r\\n             </a>=20\\r\\n              </td>\\r\\n             </tr>\\r\\n             <tr>\\r\\n      \\t\\t    <td height=3D\"15\"></td>\\r\\n             </tr>\\r\\n             <tr>\\r\\n      \\t\\t    <td align=3D\"center\" class=3D\"paraheading\" style=3D\\'color:#7575=\\r\\n75; font-family:\"Roboto\", OpenSans, \"Open Sans\", Arial, sans-serif; font-si=\\r\\nze:24px; font-weight:300; line-height:33px; margin:0; padding:0 25px 0 25px=\\r\\n; text-align:center\\'>Never run out of storage again</td>\\r\\n             </tr>\\r\\n             <tr>\\r\\n      \\t\\t    <td height=3D\"4\" style=3D\"line-height: 4px; font-size: 4px;\"></=\\r\\ntd>\\r\\n             </tr>\\r\\n             <tr>\\r\\n               <td align=3D\"center\" class=3D\"para\" style=3D\\'color:#757575; =\\r\\nfont-family:\"Roboto\", OpenSans, \"Open Sans\", Arial, sans-serif; font-size:1=\\r\\n7px; font-weight:300; line-height:24px; margin:0; padding:0 25px 0 25px; te=\\r\\nxt-align:center\\'>With the Google Photos app, you can automatically back up =\\r\\nall your photos in high quality for free. Get the <a href=3D\"https://www.go=\\r\\nogle.com/appserve/mkt/p/AFOm0uHa6BJmnCfZ0HEuVp08okOu_lOhA2OrJRxGJ1zYSY-SZjz=\\r\\n2p-_ZD5xY_3Sla-rEPaHc_HuoofYgRcRQXFVTiTMQ2PZGdQhun3yYKOuV-yrYYnIkvwGo4_7ZfO=\\r\\neNronQ0xWe0u6Y3RUFLjvcuHsR635heem0FTfHvweui6WKOAsf25W55KrrHXOud6QpJwQnss4cm=\\r\\nA8\" target=3D\"_blank\" style=3D\"color:#4285f4; text-decoration:underline\">iP=\\r\\nhone</a> or <a href=3D\"https://www.google.com/appserve/mkt/p/AFOm0uHrAONY_b=\\r\\nk6ua2YDLyIBxR2qDMvB4kSpoj4EOjj9Nth9AB5qqIu9_nrWQwuwxaIZxuJ8jIW-bE9hmp7_bxjG=\\r\\noAjtJydkISEp_9Ml0UGP-HJMha1UnA\" target=3D\"_blank\" style=3D\"color:#4285f4; t=\\r\\next-decoration:underline\">Android</a> phone app.</td>\\r\\n             </tr>\\r\\n             <tr>\\r\\n        \\t    <td height=3D\"30\"></td>\\r\\n             </tr>\\r\\n           </table>\\r\\n          </td>\\r\\n        </tr>\\r\\n        <tr>\\r\\n          <td>\\r\\n            <table border=3D\"0\" cellspacing=3D\"0\" cellpadding=3D\"0\" align=\\r\\n=3D\"center\" width=3D\"100%\" style=3D\"border-bottom: 1px solid #eeeeee;\">\\r\\n            <tr>\\r\\n              <td height=3D\"32\"></td>\\r\\n             </tr>\\r\\n             <tr>\\r\\n      \\t\\t    <td align=3D\"center\">\\r\\n              <a href=3D\"https://www.google.com/appserve/mkt/p/AFOm0uGBpaq-=\\r\\nfnbj-Xo7PDYzuw58isB285WctOCdyxO1co8n73fH9WAopxSmOJo1cy8zCdmusgQJmdHb3V_qjKc=\\r\\nkbxGVJyL2F5vPuCnQneaeS948RGPKqMiG3KXZ5gXqvRy6uzdjux_9fjuRyyw1P1m9LrSqZ59fW_=\\r\\neNtJCWVo-V\" target=3D\"_blank\" style=3D\"color:#4285f4; text-decoration:under=\\r\\nline\">\\r\\n             <img width=3D\"60\" height=3D\"77\" src=3D\"https://services.google=\\r\\n.com/fh/files/emails/shield_logo_150_rt.png\" alt=3D\"Trust shield\" border=3D=\\r\\n\"0\" style=3D\"width: 60px; height: 77px; text-align: center; border: none;\">\\r\\n              </a>\\r\\n              </td>\\r\\n             =20\\r\\n             </tr>\\r\\n             <tr>\\r\\n      \\t\\t    <td height=3D\"15\"></td>\\r\\n             </tr>\\r\\n             <tr>\\r\\n      \\t\\t    <td align=3D\"center\" class=3D\"paraheading\" style=3D\\'color:#7575=\\r\\n75; font-family:\"Roboto\", OpenSans, \"Open Sans\", Arial, sans-serif; font-si=\\r\\nze:24px; font-weight:300; line-height:33px; margin:0; padding:0 25px 0 25px=\\r\\n; text-align:center\\'>You=E2=80=99re in control</td>\\r\\n             </tr>\\r\\n             <tr>\\r\\n      \\t\\t    <td height=3D\"4\" style=3D\"line-height: 4px; font-size: 4px;\"></=\\r\\ntd>\\r\\n             </tr>\\r\\n             <tr>\\r\\n               <td align=3D\"center\" class=3D\"para1\" style=3D\\'color:#757575;=\\r\\n font-family:\"Roboto\", OpenSans, \"Open Sans\", Arial, sans-serif; font-size:=\\r\\n17px; font-weight:300; line-height:24px; margin:0; padding:0 20px 0 20px; t=\\r\\next-align:center\\'>Choose what=E2=80=99s right for you. You can review and a=\\r\\ndjust your privacy and security settings any time at <a href=3D\"https://www=\\r\\n.google.com/appserve/mkt/p/AFOm0uFLRJkRhXLNa40SH_BltDKWU0lgwoDEaCHCAIMl4Rym=\\r\\n3KBFzz_fyiiF5S4sUVJwkcRXGEYIswenBmhXahbnEQO4tQyN5LmrhkCvKSl_tmpRSQINlNga3a2=\\r\\nbSHaXcXldAUVXDxr8WQ1BCfbrqj5ek7qOciektS72sUbw-Z-iAHLYxA\" target=3D\"_blank\" =\\r\\nstyle=3D\"color:#4285f4; text-decoration:underline\">My Account</a>.</td>\\r\\n             </tr>\\r\\n             <tr>\\r\\n        \\t    <td height=3D\"30\"></td>\\r\\n             </tr>\\r\\n           </table>\\r\\n          </td>\\r\\n        </tr>\\r\\n        <tr>\\r\\n          <td>\\r\\n            <table border=3D\"0\" cellspacing=3D\"0\" cellpadding=3D\"0\" align=\\r\\n=3D\"center\" width=3D\"100%\">\\r\\n            <tr>\\r\\n              <td height=3D\"27\"></td>\\r\\n             </tr>\\r\\n             <tr>\\r\\n        \\t    <td align=3D\"center\" class=3D\"parasec\" style=3D\\'color:#757575;=\\r\\n font-family:\"Roboto\", OpenSans, \"Open Sans\", Arial, sans-serif; font-size:=\\r\\n17px; font-weight:300; line-height:24px; margin:0; padding:0 25px 0 25px; t=\\r\\next-align:center\\'>Replies to this email aren=E2=80=99t monitored, but if yo=\\r\\nu have a question try the <a href=3D\"https://www.google.com/appserve/mkt/p/=\\r\\nAFOm0uE26Sibqz5GGfxl9Nb9t-5boXivksd4Y2CYvBVU88soODmnn9uhkju_dFVOBRJSxs9rXwv=\\r\\nwbHPI3zN6gcTbyHKNB27cYUAKBugNG7gBFSh-wBlqowCsPHeK5BzVLr5J-PCvs3mBrsJvyu7WI2=\\r\\nXwnukPtvMvkfHkdQ\" target=3D\"_blank\" style=3D\"text-decoration:underline; col=\\r\\nor: #4285f4;\">Help Center</a> or post it to the <a href=3D\"https://www.goog=\\r\\nle.com/appserve/mkt/p/AFOm0uFIHqjuUckC3M7bTZLwIbBW6_g033WmoIyoXWwatwQZcbJuH=\\r\\nWmHb4YxqHKjCbrjFrdeya7-1FDOUJKJY3HkzIfs--uHV_OOJGWzocpP_KtU-YTLMiKdx0fXySk2=\\r\\nnXF8mG0dXHEqPalBupskID_fH_sopCmgaAhBkmZA7O2RRMP6AcQwynqNamHIW_n5O0j23A\" tar=\\r\\nget=3D\"_blank\" style=3D\"color:#4285f4; text-decoration:underline; white-spa=\\r\\nce: nowrap!important;\">Gmail Help Forum</a> where my team and other expert =\\r\\nusers answer questions.\\r\\n\\r\\n</td>\\r\\n             </tr>\\r\\n             <tr>\\r\\n      \\t\\t    <td height=3D\"25\"></td>\\r\\n             </tr>\\r\\n             <tr>\\r\\n      \\t\\t    <td align=3D\"center\" class=3D\"parasec\" style=3D\\'color:#757575; =\\r\\nfont-family:\"Roboto\", OpenSans, \"Open Sans\", Arial, sans-serif; font-size:1=\\r\\n7px; font-weight:300; line-height:24px; margin:0; padding:0 25px 0 25px; te=\\r\\nxt-align:center\\'>Enjoy your new account,</td>\\r\\n             </tr>\\r\\n            =20\\r\\n             <tr>\\r\\n        \\t    <td align=3D\"center\" style=3D\"padding-top:13px; padding-bottom=\\r\\n:8px;\">\\r\\n              <img border=3D\"0\" src=3D\"https://services.google.com/fh/files=\\r\\n/emails/andy.png\" alt=3D\"Andy\" style=3D\"text-align: center; border: none;\" =\\r\\nwidth=3D\"75\" height=3D\"45\">\\r\\n                            </td>\\r\\n             </tr>\\r\\n            =20\\r\\n            =20\\r\\n            =20\\r\\n            =20\\r\\n             <tr>\\r\\n               <td align=3D\"center\" class=3D\"parasec\" style=3D\\'color:#75757=\\r\\n5; font-family:\"Roboto\", OpenSans, \"Open Sans\", Arial, sans-serif; font-siz=\\r\\ne:17px; font-weight:300; line-height:24px; margin:0; padding:0 25px 0 25px;=\\r\\n text-align:center\\'>\\r\\n               Gmail Community Manager\\r\\n                </td>\\r\\n             </tr>\\r\\n             <tr>\\r\\n              <td height=3D\"35\"></td>\\r\\n             </tr>\\r\\n             <tr>\\r\\n               <td align=3D\"center\" class=3D\"para\" style=3D\\'color:#757575; =\\r\\nfont-family:\"Roboto\", OpenSans, \"Open Sans\", Arial, sans-serif; font-size:1=\\r\\n7px; font-weight:300; line-height:24px; margin:0; padding:0 25px 0 25px; te=\\r\\nxt-align:center\\'> Keep in touch: <a href=3D\"https://www.google.com/appserve=\\r\\n/mkt/p/AFOm0uEdpI8-lt2n56LCYrmbxLOtcocLKnsrpWZfuqUAA99eVj1Ldg_Q_RwTjv1gpF26=\\r\\nkvzuIgx8RGoJpuTj5pxFSooMvW828LICEsqMcheq6DIb5Snx4cscq64jovkQAOTrGHWtw5fQYsA=\\r\\nosuqn6rMZtDaWxldRcgyeC1weJ-eZ1g8\" target=3D\"_blank\" style=3D\"color:#4285f4;=\\r\\n text-decoration:underline\">Twitter</a>, <a href=3D\"https://www.google.com/=\\r\\nappserve/mkt/p/AFOm0uGMGpEtESPEOM3LKQXhOBrSqwRgWe4JmPFH21VZ4GAQDQI6kDTpndK7=\\r\\nCMz_R-SgN9J6jEsJMmGdeEwma3SQttOe8-pJ7GUOBRebeABPHT2jOUA5gcc_jFuap8-UmKWBmbj=\\r\\nMPARvr_qY1LmuwqmvM7m9OYMORWONUOyt6g\" target=3D\"_blank\" style=3D\"color:#4285=\\r\\nf4; text-decoration:underline\">Facebook</a>, <a href=3D\"https://www.google.=\\r\\ncom/appserve/mkt/p/AFOm0uEdwVI1d2spINZvygFPPlcw_smsM_w8ZsOuiZ-ELNcNKNueX8L6=\\r\\n4RDJUyZ8ZdcSDl58M-6rOBMB60urEqKx__KDm7vgzyaH7baw05K6MsPnpG2otPN6Mk_nkFPeOhC=\\r\\n1sw_Ile8SxDOaAWRjb0SFxsFgn_RsBNkiFHWkrWgEeA\" target=3D\"_blank\" style=3D\"col=\\r\\nor:#4285f4; text-decoration:underline\">Google+</a> </td>\\r\\n             </tr>\\r\\n             <tr>\\r\\n              <td height=3D\"27\"></td>\\r\\n             </tr>\\r\\n              <tr>\\r\\n              <td>\\r\\n                 <table border=3D\"0\" cellspacing=3D\"0\" cellpadding=3D\"0\" wi=\\r\\ndth=3D\"100%\">\\r\\n<tr>\\r\\n<td colspan=3D\"3\" align=3D\"center\" style=3D\"text-align: center; font-family=\\r\\n: \\'Roboto\\',OpenSans,\\'Open Sans\\',Arial,sans-serif; font-size: 17px; line-hei=\\r\\nght: 24px; font-weight: 300; color: #757575; padding-bottom:10px;\">Get Gmai=\\r\\nl on the go.\\r\\n</td>\\r\\n</tr>\\r\\n<tr>\\r\\n<td colspan=3D\"3\" style=3D\"height:10px\">\\r\\n</td>\\r\\n</tr>\\r\\n<tr>\\r\\n<td style=3D\"text-align:right; line-height:10px;\" width=3D\"229\">\\r\\n<a href=3D\"https://www.google.com/appserve/mkt/p/AFOm0uFtRO5P6WpGZI2pvy8_Fs=\\r\\nIId3Xwms5qO1VIK9_8sjZRa5shjJr-JVqMDTouc1eIGQ2f6H9ce7ow82xPYqySbeQPfcXPWLsX6=\\r\\nlrP04_4pS8GUU_po-UVYHdnOunQAJ45bG-hjTJ0oWc9Iif4HqyHwNZryMeEuqSg5wt7OmORuIxT=\\r\\ncI6F6tIv8bTb6qutx5HK_dQzkendchhlsb79d9NKADF86H4Q\" target=3D\"_blank\" style=\\r\\n=3D\"color:#4285f4; text-decoration:underline\"><img src=3D\"https://services.=\\r\\ngoogle.com/fh/files/emails/en_generic_rgb_wo_60.png\" alt=3D\"Google Play\" wi=\\r\\ndth=3D\"162\" height=3D\"48\" style=3D\"max-width: none; height: 48px; width:162=\\r\\npx; outline: none; display: block; -ms-interpolation-mode: bicubic; border-=\\r\\ntop-width: 0; border-right-width: 0; border-bottom-width: 0; border-left-wi=\\r\\ndth: 0;\" align=3D\"right\"></a>\\r\\n</td>\\r\\n<td width=3D\"21\" height=3D\"48\" style=3D\"width:21px;height:48px\">=20\\r\\n</td>\\r\\n<td style=3D\"text-align:left; line-height:10px;\" width=3D\"230\">\\r\\n<a href=3D\"https://www.google.com/appserve/mkt/p/AFOm0uGIV3YECwI-MQJu7ymSNc=\\r\\natpkaCalY2fnQ5IyGpQ38fcjbp3r8k2D6vF2GNBVDZNVrmusHvmVcqSNJyEKQHGvn4qTcSOPs9D=\\r\\nOeTd7RwA28UbBnGPc63hKmti5OLykFGKwbvYfklHNIWUIgppBVp52_wIf8KTpOL0loaYVnGdzsu=\\r\\n3MceYzQ\" target=3D\"_blank\" style=3D\"color:#4285f4; text-decoration:underlin=\\r\\ne\"><img src=3D\"https://services.google.com/fh/files/emails/one_wel_email_it=\\r\\nunes_icon.png\" alt=3D\"App Store\" width=3D\"162\" height=3D\"48\" style=3D\"max-w=\\r\\nidth: none; width:162; height: 48px; outline: none; display: block; -ms-int=\\r\\nerpolation-mode: bicubic; border-top-width: 0; border-right-width: 0; borde=\\r\\nr-bottom-width: 0; border-left-width: 0;\" align=3D\"left\"></a>\\r\\n</td>\\r\\n\\r\\n</tr>\\r\\n</table>\\r\\n              </td>\\r\\n\\r\\n             </tr>\\r\\n\\r\\n\\r\\n            =20\\r\\n             <tr>\\r\\n              <td height=3D\"36\"></td>\\r\\n\\r\\n             </tr>\\r\\n            =20\\r\\n            =20\\r\\n            =20\\r\\n            =20\\r\\n            =20\\r\\n             <tr>\\r\\n               <td align=3D\"center\">\\r\\n               <a href=3D\"https://www.google.com/appserve/mkt/p/AFOm0uGvTbh=\\r\\nWcuDeJl9SkBnm3cpfNB1WdT0-2-_wbLZA26QnyqIhWsBymSWsYInrru_S26EMvWC1K_RnxLUA8Z=\\r\\noHNLUioIQon5NdyRTdv8DQSueukPcb-IS8HNuT9vUjYj9VV4Q9TZsqVwTkLEvXs4wnGNzdx1zo3=\\r\\n9tDGQ\" target=3D\"_blank\" style=3D\"color:#4285f4; text-decoration:underline\"=\\r\\n>\\r\\n               <img width=3D\"134\" height=3D\"46\" border=3D\"0\" src=3D\"https:/=\\r\\n/services.google.com/fh/files/emails/google_log_new.png\" alt=3D\"Google\" sty=\\r\\nle=3D\"width: 134px; height: 46px; text-align: center; border: none;\">\\r\\n               </a>\\r\\n               </td>\\r\\n             </tr>\\r\\n             <tr>\\r\\n              <td height=3D\"31\"></td>\\r\\n             </tr>\\r\\n             <tr>\\r\\n              <td align=3D\"center\">\\r\\n                <table border=3D\"0\" cellspacing=3D\"0\" cellpadding=3D\"0\" ali=\\r\\ngn=3D\"center\" width=3D\"405\" class=3D\"strip\" style=3D\"padding-left:4px;paddi=\\r\\nng-right:4px\">=20\\r\\n                  <tr>\\r\\n                    <td width=3D\"32\" class=3D\"prod-icon\" style=3D\"margin:0;=\\r\\n padding:0 0 0 0\">\\r\\n                      <a href=3D\"https://www.google.com/appserve/mkt/p/AFOm=\\r\\n0uFCJNwqVetMhQp43KoippFFX7VmcC9SrL4lg8B4WLnPVMMP_3LHtlrDS0anVhBI6NMObCVMe2W=\\r\\nOs6UPx143Eux-_QmOEyKlPRy_F9JWWWlU01YMmMbfrCX1yi2fruQ8ZivEujhozln44dpdxIlpEr=\\r\\nXXo2N_BdzTlQ\" target=3D\"_blank\" style=3D\"color:#4285f4; text-decoration:und=\\r\\nerline\">\\r\\n                        <img width=3D\"32\" border=3D\"0\" src=3D\"https://servi=\\r\\nces.google.com/fh/files/emails/owe_googleg_32dp.png\" alt=3D\"Google Search\" =\\r\\nstyle=3D\"width: 32px; text-align: center; border: none;\">\\r\\n                      </a>\\r\\n                    </td>\\r\\n                   =20\\r\\n                    <td width=3D\"20\" style=3D\"margin:0; padding:0\"></td>\\r\\n                    <td width=3D\"32\" class=3D\"prod-icon\" style=3D\"margin:0;=\\r\\n padding:0 0 0 0\">\\r\\n                    <a href=3D\"https://www.google.com/appserve/mkt/p/AFOm0u=\\r\\nHK6jZfRW8JRtHr3wysQ-PA66wx4NY_uUO8GabsH4u5is_TgX2_tnvzXIPhrBjTzS927KqdjfdRh=\\r\\nDBOWyTMsRrJW0DIlXI-7EnMbsZKimJG-Rm90bvM13S2mfR3jSPwf8erpsJPEtet3o61SHLQa6vX=\\r\\nt3wbtp7LXKC74VT9B78rnh8\" target=3D\"_blank\" style=3D\"color:#4285f4; text-dec=\\r\\noration:underline\">\\r\\n                    <img src=3D\"https://services.google.com/fh/files/emails=\\r\\n/owe-new_gmail_32dp.png\" width=3D\"32\" alt=3D\"Gmail\">\\r\\n                      </a>\\r\\n                    </td>\\r\\n                   =20\\r\\n                    <td width=3D\"18\" style=3D\"margin:0; padding:0\"></td>\\r\\n                    <td width=3D\"32\" class=3D\"prod-icon\" style=3D\"margin:0;=\\r\\n padding:0 0 0 0\">\\r\\n                    <a href=3D\"https://www.google.com/appserve/mkt/p/AFOm0u=\\r\\nEbteL92vYOyBY_3bd_hxuf9DzvtmzciCbF342MXcsmj9eUpG5P_aX2gNIlF72QVA89-07vjALEO=\\r\\nR6ai8gerB-c8bNYRz-gaDQHPma5J4AWEaB86da-5q1WWw86DI0uD0Ilc1OBui0QU8E7GIpFUOGM=\\r\\nbSOD2-z0BpljBw\" target=3D\"_blank\" style=3D\"color:#4285f4; text-decoration:u=\\r\\nnderline\">\\r\\n                    <img width=3D\"32\" border=3D\"0\" src=3D\"https://services.=\\r\\ngoogle.com/fh/files/emails/owe_maps_32dp.png\" alt=3D\"Maps\" style=3D\"width: =\\r\\n32px; text-align: center; border: none;\">\\r\\n                      </a>\\r\\n                    </td>\\r\\n                   =20\\r\\n                   =20\\r\\n                    <td width=3D\"22\" style=3D\"margin:0; padding:0\"></td>\\r\\n                    <td width=3D\"32\" class=3D\"prod-icon\" style=3D\"margin:0;=\\r\\n padding:0 0 0 0\">\\r\\n                    <a href=3D\"https://www.google.com/appserve/mkt/p/AFOm0u=\\r\\nHgtgCTTGeYAjV1QLkJwD_PaLv5_V7kS269UINBC5K54bDwKHDRvLLn8RrP_AieDueo8lVRCXWKw=\\r\\ngVxdCUyHReLFdEGR0EcmvrgdCviauURK9w7qOp5a2ExeuIflugk8f8Hmfe-1KgnRzirkb1Tumwh=\\r\\n4xo9ZQ\" target=3D\"_blank\" style=3D\"color:#4285f4; text-decoration:underline=\\r\\n\">\\r\\n                    <img width=3D\"32\" border=3D\"0\" src=3D\"https://services.=\\r\\ngoogle.com/fh/files/emails/owe_youtube_32dp.png\" alt=3D\"YouTube\" style=3D\"w=\\r\\nidth: 32px; text-align: center; border: none; -ms-interpolation-mode: bicub=\\r\\nic;\">\\r\\n                      </a>\\r\\n                    </td>\\r\\n                   =20\\r\\n                    <td width=3D\"22\" style=3D\"margin:0; padding:0\"></td>\\r\\n                    <td width=3D\"32\" class=3D\"prod-icon\" style=3D\"margin:0;=\\r\\n padding:0 0 0 0\">\\r\\n                    <a href=3D\"https://www.google.com/appserve/mkt/p/AFOm0u=\\r\\nEVcEEjN7or4N6TELU8an9FDBVWJkiqjXnYhTOEzvNcESBsZ8eaz3_nJej52JVD-oO5tpJPJVAfv=\\r\\nbHgkOfv9w5yuykp2TM3dHdSQlRu3_Y6OylbFFStXAyAE-3zwcM61-5B9zeguecgFcA_vUbRmwhU=\\r\\nCeX5re5ouAE\" target=3D\"_blank\" style=3D\"color:#4285f4; text-decoration:unde=\\r\\nrline\">\\r\\n                    <img width=3D\"32\" border=3D\"0\" src=3D\"https://services.=\\r\\ngoogle.com/fh/files/emails/owe_drive_32dp.png\" alt=3D\"Drive\" style=3D\"width=\\r\\n: 32px; text-align: center; border: none;\">\\r\\n                      </a>\\r\\n                    </td>\\r\\n                   =20\\r\\n                    <td width=3D\"17\" style=3D\"margin:0; padding:0\"></td>\\r\\n                    <td width=3D\"32\" class=3D\"prod-icon\" style=3D\"margin:0;=\\r\\n padding:0 0 0 0\">\\r\\n                    <a href=3D\"https://www.google.com/appserve/mkt/p/AFOm0u=\\r\\nF4FT5BQDg63WjgKMKG6lVOywdV3uPzQf0WzQVqXYonSRI3DW9zmgCXm-em3WjYlYOZDdo1D5wu3=\\r\\nmtwMzRuDOIeVNXeHzEQnDCLKal5zIcZs1Vy-A0CIpHJj_ZULVNqSSkmqMK0u_Mqp81FGu6Zpt-N=\\r\\n8QFRLhLRKFWAig\" target=3D\"_blank\" style=3D\"color:#4285f4; text-decoration:u=\\r\\nnderline\">\\r\\n                      <img width=3D\"32\" border=3D\"0\" src=3D\"https://service=\\r\\ns.google.com/fh/files/emails/owe_photos_32dp.png\" alt=3D\"Photos\" style=3D\"w=\\r\\nidth: 32px; text-align: center; border: none;\">=20\\r\\n                    </a>\\r\\n                    </td>=20\\r\\n                   =20\\r\\n                    <td width=3D\"16\" style=3D\"margin:0; padding:0\"></td>\\r\\n                    <td width=3D\"32\" class=3D\"prod-icon\" style=3D\"margin:0;=\\r\\n padding:0 0 0 0\">\\r\\n                      <a href=3D\"https://www.google.com/appserve/mkt/p/AFOm=\\r\\n0uFvbgaQ2WajMOj6fOOi-BP5iOp41MlYYoESbyAfGOcWpqkeL6S7dMPs0W7GQtEeEoJUyaltWuQ=\\r\\nvR8tEcVoeXVplQGq7J-KS72QwroQrJpQrsWXJP7jX8Ep0kCwFbgTIK4oYhj36sVCyj6Lcjg6kTJ=\\r\\nRIEZuchx78Qz8nvqg\" target=3D\"_blank\" style=3D\"color:#4285f4; text-decoratio=\\r\\nn:underline\">\\r\\n                        <img width=3D\"32\" border=3D\"0\" src=3D\"https://servi=\\r\\nces.google.com/fh/files/emails/owe_play_32dp.png\" alt=3D\"Play\" style=3D\"wid=\\r\\nth: 32px; text-align: center; border: none;\">=20\\r\\n                      </a>\\r\\n                    </td>                   =20\\r\\n                    <td width=3D\"18\" style=3D\"margin:0; padding:0\"></td>\\r\\n                    <td width=3D\"32\" class=3D\"prod-icon\" style=3D\"margin:0;=\\r\\n padding:0 0 0 0\">\\r\\n                      <a href=3D\"https://www.google.com/appserve/mkt/p/AFOm=\\r\\n0uHsqiSFIKC_MrOnbKdHKTGLUiEqCLQ-y13pknyCTu1Gr5jx8HA03RfQO4CTUfQE5UMFRgdraO6=\\r\\nMyUos_G1USeEztdZi5h3UZFOretItW-WiGGMd3iQbg1mGlAieFD7B6XKOKBVt5KZJ9SrXd22cp-=\\r\\n1NlNhGo0iW4FB2cRtG4aM\" target=3D\"_blank\" style=3D\"color:#4285f4; text-decor=\\r\\nation:underline\">\\r\\n                       <img width=3D\"32\" border=3D\"0\" src=3D\"https://servic=\\r\\nes.google.com/fh/files/emails/owe_chrome_32dp.png\" alt=3D\"Chrome\" style=3D\"=\\r\\nwidth: 32px; text-align: center; border: none;\">\\r\\n                      </a>\\r\\n                    </td>\\r\\n                  </tr>\\r\\n                </table>\\r\\n              </td>\\r\\n             </tr>\\r\\n             <tr>\\r\\n  \\t\\t\\t\\t<td height=3D\"28\"></td>\\r\\n\\t\\t\\t\\t</tr>\\r\\n        <tr>\\r\\n          <td height=3D\"19\" bgcolor=3D\"#eeeeee\" style=3D\"background: #eeeee=\\r\\ne;\"></td>\\r\\n          </tr>\\r\\n             <tr>\\r\\n             <td class=3D\"footer\" valign=3D\"middle\" style=3D\\'background:#ee=\\r\\ne; color:#777; font-family:\"Roboto\", OpenSans, \"Open Sans\", Arial, sans-ser=\\r\\nif; font-size:10px; font-weight:300; line-height:14px; margin:0; padding:0 =\\r\\n6px 0 6px; text-align:center\\' align=3D\"center\">\\r\\n                =C2=A9 2018 Google LLC 1600 Amphitheatre Parkway, Mountain =\\r\\nView, CA 94043<br>This email was sent to you because you created a Google A=\\r\\nccount.\\r\\n            </td>\\r\\n             </tr>\\r\\n           </table>\\r\\n          </td>\\r\\n        </tr>\\r\\n       =20\\r\\n\\t\\t\\t\\t<tr>\\r\\n\\t\\t\\t\\t\\t<td height=3D\"18\" bgcolor=3D\"#eeeeee\" style=3D\"background: #eeeeee;\"><=\\r\\n/td>\\r\\n\\t\\t\\t\\t</tr>\\r\\n\\t\\t\\t</table>\\r\\n\\t\\t</td>\\r\\n\\t\\t<td width=3D\"21\" bgcolor=3D\"#eeeeee\" style=3D\"background: #eeeeee;\">&nbsp=\\r\\n;</td>\\r\\n\\t</tr>\\r\\n</table>\\r\\n<div style=3D\"display:none; white-space:nowrap; font:15px courier; line-hei=\\r\\nght:0;\">\\r\\n&nbsp; &nbsp; &nbsp; &nbsp; &nbsp; &nbsp;&nbsp; &nbsp; &nbsp; &nbsp; &nbsp;=\\r\\n &nbsp; &nbsp; &nbsp; &nbsp;\\r\\n&nbsp; &nbsp; &nbsp; &nbsp; &nbsp; &nbsp; &nbsp; &nbsp; &nbsp; &nbsp; &nbsp=\\r\\n; &nbsp; &nbsp; &nbsp; &nbsp;\\r\\n</div>\\r\\n</center>\\r\\n<img height=3D\"1\" src=3D\"https://www.google.com/appserve/mkt/img/AFOm0uHSND=\\r\\nJZ3u06DMQ-z4E4ag0kYndUPBTuCiqT1sfLiJk.gif\" width=3D\"3\">\\r\\n</body>\\r\\n</html>\\r\\n\\r\\n--089e08200610236cc50564fa09c9--\\r\\n'),\n",
       " b' FLAGS (\\\\Seen))']"
      ]
     },
     "execution_count": 13,
     "metadata": {},
     "output_type": "execute_result"
    }
   ],
   "source": [
    "#parse it\n",
    "mail.fetch(ids[0], '(RFC822)')[1]"
   ]
  },
  {
   "cell_type": "code",
   "execution_count": 15,
   "metadata": {},
   "outputs": [
    {
     "name": "stdout",
     "output_type": "stream",
     "text": [
      "Hi Super,\r\n",
      "\r\n",
      "I’m so glad you decided to try out Gmail. Here are a few tips to get you up  \r\n",
      "and running fast.\r\n",
      "\r\n",
      "--------\r\n",
      "\r\n",
      "Gmail  \r\n",
      "<https://www.google.com/appserve/mkt/p/AFOm0uGNZnPyRpP81kes49cwMJr7dMZIE0LskeCmVgNvjsKIORzwt9AftTzhYGnh8_MssOoSgAeN6AO-KqXDy_Ilm0WK9RQRz6BE7tWV17Ng1LFcB14tSrKds7Ls6_DNZuKb0IgTr9bmQcIx-oEeLhjmg3Cxk4Bsje6l3lfquNR6upXUMA>\r\n",
      "\r\n",
      "Gmail on the go\r\n",
      "\r\n",
      "  With Gmail for Android  \r\n",
      "<https://www.google.com/appserve/mkt/p/AFOm0uHGCjVg1tfjcabw91iJps-5JMuGlZcf-VOO1BrNuX_tHk4cXvPwkm-0qoeRSmCGtulubZn1HUU9UvYWDRXTx48Tx4zdO1rT_ceLtbd2l0paya4jsqBNlzSDQBEhqniEXyGvQcMmw_43RuM6MN84D5WKOj0NCZandtZRwzP6qlridPezdM7Czmd1a_tAzlkfv5YVsNkiuWIYh-nh3yn6uyjvMMQ>  \r\n",
      "and iOS  \r\n",
      "<https://www.google.com/appserve/mkt/p/AFOm0uHabHmmhroqt_E7myWqrwsCBZ59vHy1aGebAkqNIwLnTRIAxgCXfZssp-njdfLUIsKQeaKqHY7oVEeSMvMA3wD-u8bq4AtcZi92QnJ5QogXPJwYdJtY17LBCEaHVbfkKozVHtsiIJeN55TQ9Rpv1M17BfgnEdCv0IOW477yHfmLj1QOBw>,  \r\n",
      "you get real-time notifications so you don't miss important emails.\r\n",
      "\r\n",
      "--------\r\n",
      "\r\n",
      "Photos  \r\n",
      "<https://www.google.com/appserve/mkt/p/AFOm0uGSPH9QA3J5bjxv62M0Ouud9ZqU_oid3BGu8HX6DijeN_arcIAz_BvhW8c-SfreHnQp7MrL15dd9bOkfSo64Me_7CWqDdb3TaS72zd7JUEaIedBrjia77SxqLmjxWIb82NNSIkJg2QEsl0mHma5gLZFBW6SDLrf3J2yp2xSjbQWl9J9F8aEPzxtLe0>\r\n",
      "\r\n",
      "Never run out of storage again\r\n",
      "\r\n",
      "With the Google Photos app, you can automatically back up all your photos  \r\n",
      "in high quality for free. Get the iPhone  \r\n",
      "<https://www.google.com/appserve/mkt/p/AFOm0uHa6BJmnCfZ0HEuVp08okOu_lOhA2OrJRxGJ1zYSY-SZjz2p-_ZD5xY_3Sla-rEPaHc_HuoofYgRcRQXFVTiTMQ2PZGdQhun3yYKOuV-yrYYnIkvwGo4_7ZfOeNronQ0xWe0u6Y3RUFLjvcuHsR635heem0FTfHvweui6WKOAsf25W55KrrHXOud6QpJwQnss4cmA8>  \r\n",
      "or Android  \r\n",
      "<https://www.google.com/appserve/mkt/p/AFOm0uHrAONY_bk6ua2YDLyIBxR2qDMvB4kSpoj4EOjj9Nth9AB5qqIu9_nrWQwuwxaIZxuJ8jIW-bE9hmp7_bxjGoAjtJydkISEp_9Ml0UGP-HJMha1UnA>  \r\n",
      "phone app.\r\n",
      "\r\n",
      "--------\r\n",
      "\r\n",
      "Trust shield  \r\n",
      "<https://www.google.com/appserve/mkt/p/AFOm0uGBpaq-fnbj-Xo7PDYzuw58isB285WctOCdyxO1co8n73fH9WAopxSmOJo1cy8zCdmusgQJmdHb3V_qjKckbxGVJyL2F5vPuCnQneaeS948RGPKqMiG3KXZ5gXqvRy6uzdjux_9fjuRyyw1P1m9LrSqZ59fW_eNtJCWVo-V>\r\n",
      "\r\n",
      "You’re in control\r\n",
      "\r\n",
      "Choose what’s right for you. You can review and adjust your privacy and  \r\n",
      "security settings any time at My Account  \r\n",
      "<https://www.google.com/appserve/mkt/p/AFOm0uFLRJkRhXLNa40SH_BltDKWU0lgwoDEaCHCAIMl4Rym3KBFzz_fyiiF5S4sUVJwkcRXGEYIswenBmhXahbnEQO4tQyN5LmrhkCvKSl_tmpRSQINlNga3a2bSHaXcXldAUVXDxr8WQ1BCfbrqj5ek7qOciektS72sUbw-Z-iAHLYxA>.\r\n",
      "\r\n",
      "--------\r\n",
      "\r\n",
      "Replies to this email aren’t monitored, but if you have a question try the  \r\n",
      "Help Center  \r\n",
      "<https://www.google.com/appserve/mkt/p/AFOm0uE26Sibqz5GGfxl9Nb9t-5boXivksd4Y2CYvBVU88soODmnn9uhkju_dFVOBRJSxs9rXwvwbHPI3zN6gcTbyHKNB27cYUAKBugNG7gBFSh-wBlqowCsPHeK5BzVLr5J-PCvs3mBrsJvyu7WI2XwnukPtvMvkfHkdQ>  \r\n",
      "or post it to the Gmail Help Forum  \r\n",
      "<https://www.google.com/appserve/mkt/p/AFOm0uFIHqjuUckC3M7bTZLwIbBW6_g033WmoIyoXWwatwQZcbJuHWmHb4YxqHKjCbrjFrdeya7-1FDOUJKJY3HkzIfs--uHV_OOJGWzocpP_KtU-YTLMiKdx0fXySk2nXF8mG0dXHEqPalBupskID_fH_sopCmgaAhBkmZA7O2RRMP6AcQwynqNamHIW_n5O0j23A>  \r\n",
      "where my team and other expert users answer questions.\r\n",
      "\r\n",
      "\r\n",
      "Enjoy your new account,\r\n",
      "\r\n",
      "Andy \t\r\n",
      "\r\n",
      "\r\n",
      "Gmail Community Manager\r\n",
      "\r\n",
      "\r\n",
      "Keep in touch: Twitter  \r\n",
      "<https://www.google.com/appserve/mkt/p/AFOm0uEdpI8-lt2n56LCYrmbxLOtcocLKnsrpWZfuqUAA99eVj1Ldg_Q_RwTjv1gpF26kvzuIgx8RGoJpuTj5pxFSooMvW828LICEsqMcheq6DIb5Snx4cscq64jovkQAOTrGHWtw5fQYsAosuqn6rMZtDaWxldRcgyeC1weJ-eZ1g8>,  \r\n",
      "Facebook  \r\n",
      "<https://www.google.com/appserve/mkt/p/AFOm0uGMGpEtESPEOM3LKQXhOBrSqwRgWe4JmPFH21VZ4GAQDQI6kDTpndK7CMz_R-SgN9J6jEsJMmGdeEwma3SQttOe8-pJ7GUOBRebeABPHT2jOUA5gcc_jFuap8-UmKWBmbjMPARvr_qY1LmuwqmvM7m9OYMORWONUOyt6g>,  \r\n",
      "Google+  \r\n",
      "<https://www.google.com/appserve/mkt/p/AFOm0uEdwVI1d2spINZvygFPPlcw_smsM_w8ZsOuiZ-ELNcNKNueX8L64RDJUyZ8ZdcSDl58M-6rOBMB60urEqKx__KDm7vgzyaH7baw05K6MsPnpG2otPN6Mk_nkFPeOhC1sw_Ile8SxDOaAWRjb0SFxsFgn_RsBNkiFHWkrWgEeA>\r\n",
      "\r\n",
      "\r\n",
      "Get Gmail on the go.\r\n",
      "\r\n",
      "Google Play  \r\n",
      "<https://www.google.com/appserve/mkt/p/AFOm0uFtRO5P6WpGZI2pvy8_FsIId3Xwms5qO1VIK9_8sjZRa5shjJr-JVqMDTouc1eIGQ2f6H9ce7ow82xPYqySbeQPfcXPWLsX6lrP04_4pS8GUU_po-UVYHdnOunQAJ45bG-hjTJ0oWc9Iif4HqyHwNZryMeEuqSg5wt7OmORuIxTcI6F6tIv8bTb6qutx5HK_dQzkendchhlsb79d9NKADF86H4Q>\r\n",
      "\r\n",
      "App Store  \r\n",
      "<https://www.google.com/appserve/mkt/p/AFOm0uEbel_gTI78Kpk6YbI6BSuiPeN6r4olkQnSX47miGNtiHqYA6QdJ2bJYMD7a8RT5C5fOAhNPJ5BT8rrEBf4Imc6SeeYOCACzya-2q5E2yQwFpCt0HZX889pA2Xd_c4fxo3vBtsHqo28KwTfecykIjWB-pDk6pKNC-aV0B8aZJmhI0R_wbU>\r\n",
      "\r\n",
      "\r\n",
      "Google  \r\n",
      "<https://www.google.com/appserve/mkt/p/AFOm0uGvTbhWcuDeJl9SkBnm3cpfNB1WdT0-2-_wbLZA26QnyqIhWsBymSWsYInrru_S26EMvWC1K_RnxLUA8ZoHNLUioIQon5NdyRTdv8DQSueukPcb-IS8HNuT9vUjYj9VV4Q9TZsqVwTkLEvXs4wnGNzdx1zo39tDGQ>\r\n",
      "\r\n",
      "\r\n",
      "Google Search  \r\n",
      "<https://www.google.com/appserve/mkt/p/AFOm0uFCJNwqVetMhQp43KoippFFX7VmcC9SrL4lg8B4WLnPVMMP_3LHtlrDS0anVhBI6NMObCVMe2WOs6UPx143Eux-_QmOEyKlPRy_F9JWWWlU01YMmMbfrCX1yi2fruQ8ZivEujhozln44dpdxIlpErXXo2N_BdzTlQ>\r\n",
      "\r\n",
      "Gmail  \r\n",
      "<https://www.google.com/appserve/mkt/p/AFOm0uHK6jZfRW8JRtHr3wysQ-PA66wx4NY_uUO8GabsH4u5is_TgX2_tnvzXIPhrBjTzS927KqdjfdRhDBOWyTMsRrJW0DIlXI-7EnMbsZKimJG-Rm90bvM13S2mfR3jSPwf8erpsJPEtet3o61SHLQa6vXt3wbtp7LXKC74VT9B78rnh8>\r\n",
      "\r\n",
      "Maps  \r\n",
      "<https://www.google.com/appserve/mkt/p/AFOm0uEbteL92vYOyBY_3bd_hxuf9DzvtmzciCbF342MXcsmj9eUpG5P_aX2gNIlF72QVA89-07vjALEOR6ai8gerB-c8bNYRz-gaDQHPma5J4AWEaB86da-5q1WWw86DI0uD0Ilc1OBui0QU8E7GIpFUOGMbSOD2-z0BpljBw>\r\n",
      "\r\n",
      "YouTube  \r\n",
      "<https://www.google.com/appserve/mkt/p/AFOm0uHgtgCTTGeYAjV1QLkJwD_PaLv5_V7kS269UINBC5K54bDwKHDRvLLn8RrP_AieDueo8lVRCXWKwgVxdCUyHReLFdEGR0EcmvrgdCviauURK9w7qOp5a2ExeuIflugk8f8Hmfe-1KgnRzirkb1Tumwh4xo9ZQ>\r\n",
      "\r\n",
      "Drive  \r\n",
      "<https://www.google.com/appserve/mkt/p/AFOm0uEVcEEjN7or4N6TELU8an9FDBVWJkiqjXnYhTOEzvNcESBsZ8eaz3_nJej52JVD-oO5tpJPJVAfvbHgkOfv9w5yuykp2TM3dHdSQlRu3_Y6OylbFFStXAyAE-3zwcM61-5B9zeguecgFcA_vUbRmwhUCeX5re5ouAE>\r\n",
      "\r\n",
      "Photos  \r\n",
      "<https://www.google.com/appserve/mkt/p/AFOm0uF4FT5BQDg63WjgKMKG6lVOywdV3uPzQf0WzQVqXYonSRI3DW9zmgCXm-em3WjYlYOZDdo1D5wu3mtwMzRuDOIeVNXeHzEQnDCLKal5zIcZs1Vy-A0CIpHJj_ZULVNqSSkmqMK0u_Mqp81FGu6Zpt-N8QFRLhLRKFWAig>\r\n",
      "\r\n",
      "Play  \r\n",
      "<https://www.google.com/appserve/mkt/p/AFOm0uFvbgaQ2WajMOj6fOOi-BP5iOp41MlYYoESbyAfGOcWpqkeL6S7dMPs0W7GQtEeEoJUyaltWuQvR8tEcVoeXVplQGq7J-KS72QwroQrJpQrsWXJP7jX8Ep0kCwFbgTIK4oYhj36sVCyj6Lcjg6kTJRIEZuchx78Qz8nvqg>\r\n",
      "\r\n",
      "Chrome  \r\n",
      "<https://www.google.com/appserve/mkt/p/AFOm0uHsqiSFIKC_MrOnbKdHKTGLUiEqCLQ-y13pknyCTu1Gr5jx8HA03RfQO4CTUfQE5UMFRgdraO6MyUos_G1USeEztdZi5h3UZFOretItW-WiGGMd3iQbg1mGlAieFD7B6XKOKBVt5KZJ9SrXd22cp-1NlNhGo0iW4FB2cRtG4aM>\r\n",
      "\r\n",
      "\r\n",
      "© 2018 Google LLC 1600 Amphitheatre Parkway, Mountain View, CA 94043\r\n",
      "This email was sent to you because you created a Google Account.\r\n",
      "\n"
     ]
    }
   ],
   "source": [
    "#very ugly. let's use the email library to read it\n",
    "message=email.message_from_bytes(mail.fetch(ids[0], '(RFC822)')[1][0][1])\n",
    "for part in message.walk():\n",
    "    ctype = part.get_content_type()\n",
    "    if ctype in [\"text/plain\"]:\n",
    "        message = (part.get_payload(decode=True))\n",
    "        print(message.decode())"
   ]
  },
  {
   "cell_type": "code",
   "execution_count": 16,
   "metadata": {
    "collapsed": true
   },
   "outputs": [],
   "source": [
    "#We just need texts. Send yourself a reply to the text you should have gotten earlier"
   ]
  },
  {
   "cell_type": "code",
   "execution_count": 22,
   "metadata": {},
   "outputs": [],
   "source": [
    "def read_text(message):\n",
    "    for part in message.walk():\n",
    "        ctype = part.get_content_type()\n",
    "        if ctype in [\"text/plain\"]:\n",
    "            message = (part.get_payload(decode=True))\n",
    "            return message.decode()"
   ]
  },
  {
   "cell_type": "code",
   "execution_count": 28,
   "metadata": {
    "scrolled": false
   },
   "outputs": [
    {
     "name": "stdout",
     "output_type": "stream",
     "text": [
      "312-------@vzwpix.com Im not your friend buddy\n",
      "Andy from Google <andy-noreply@google.com> Hi Super,\r\n",
      "\r\n",
      "I’m so glad you decided to try out Gmail. Here are a few tips to get you up  \r\n",
      "and running fast.\r\n",
      "\r\n",
      "--------\r\n",
      "\r\n",
      "Gmail  \r\n",
      "<https://www.google.com/appserve/mkt/p/AFOm0uGNZnPyRpP81kes49cwMJr7dMZIE0LskeCmVgNvjsKIORzwt9AftTzhYGnh8_MssOoSgAeN6AO-KqXDy_Ilm0WK9RQRz6BE7tWV17Ng1LFcB14tSrKds7Ls6_DNZuKb0IgTr9bmQcIx-oEeLhjmg3Cxk4Bsje6l3lfquNR6upXUMA>\r\n",
      "\r\n",
      "Gmail on the go\r\n",
      "\r\n",
      "  With Gmail for Android  \r\n",
      "<https://www.google.com/appserve/mkt/p/AFOm0uHGCjVg1tfjcabw91iJps-5JMuGlZcf-VOO1BrNuX_tHk4cXvPwkm-0qoeRSmCGtulubZn1HUU9UvYWDRXTx48Tx4zdO1rT_ceLtbd2l0paya4jsqBNlzSDQBEhqniEXyGvQcMmw_43RuM6MN84D5WKOj0NCZandtZRwzP6qlridPezdM7Czmd1a_tAzlkfv5YVsNkiuWIYh-nh3yn6uyjvMMQ>  \r\n",
      "and iOS  \r\n",
      "<https://www.google.com/appserve/mkt/p/AFOm0uHabHmmhroqt_E7myWqrwsCBZ59vHy1aGebAkqNIwLnTRIAxgCXfZssp-njdfLUIsKQeaKqHY7oVEeSMvMA3wD-u8bq4AtcZi92QnJ5QogXPJwYdJtY17LBCEaHVbfkKozVHtsiIJeN55TQ9Rpv1M17BfgnEdCv0IOW477yHfmLj1QOBw>,  \r\n",
      "you get real-time notifications so you don't miss important emails.\r\n",
      "\r\n",
      "--------\r\n",
      "\r\n",
      "Photos  \r\n",
      "<https://www.google.com/appserve/mkt/p/AFOm0uGSPH9QA3J5bjxv62M0Ouud9ZqU_oid3BGu8HX6DijeN_arcIAz_BvhW8c-SfreHnQp7MrL15dd9bOkfSo64Me_7CWqDdb3TaS72zd7JUEaIedBrjia77SxqLmjxWIb82NNSIkJg2QEsl0mHma5gLZFBW6SDLrf3J2yp2xSjbQWl9J9F8aEPzxtLe0>\r\n",
      "\r\n",
      "Never run out of storage again\r\n",
      "\r\n",
      "With the Google Photos app, you can automatically back up all your photos  \r\n",
      "in high quality for free. Get the iPhone  \r\n",
      "<https://www.google.com/appserve/mkt/p/AFOm0uHa6BJmnCfZ0HEuVp08okOu_lOhA2OrJRxGJ1zYSY-SZjz2p-_ZD5xY_3Sla-rEPaHc_HuoofYgRcRQXFVTiTMQ2PZGdQhun3yYKOuV-yrYYnIkvwGo4_7ZfOeNronQ0xWe0u6Y3RUFLjvcuHsR635heem0FTfHvweui6WKOAsf25W55KrrHXOud6QpJwQnss4cmA8>  \r\n",
      "or Android  \r\n",
      "<https://www.google.com/appserve/mkt/p/AFOm0uHrAONY_bk6ua2YDLyIBxR2qDMvB4kSpoj4EOjj9Nth9AB5qqIu9_nrWQwuwxaIZxuJ8jIW-bE9hmp7_bxjGoAjtJydkISEp_9Ml0UGP-HJMha1UnA>  \r\n",
      "phone app.\r\n",
      "\r\n",
      "--------\r\n",
      "\r\n",
      "Trust shield  \r\n",
      "<https://www.google.com/appserve/mkt/p/AFOm0uGBpaq-fnbj-Xo7PDYzuw58isB285WctOCdyxO1co8n73fH9WAopxSmOJo1cy8zCdmusgQJmdHb3V_qjKckbxGVJyL2F5vPuCnQneaeS948RGPKqMiG3KXZ5gXqvRy6uzdjux_9fjuRyyw1P1m9LrSqZ59fW_eNtJCWVo-V>\r\n",
      "\r\n",
      "You’re in control\r\n",
      "\r\n",
      "Choose what’s right for you. You can review and adjust your privacy and  \r\n",
      "security settings any time at My Account  \r\n",
      "<https://www.google.com/appserve/mkt/p/AFOm0uFLRJkRhXLNa40SH_BltDKWU0lgwoDEaCHCAIMl4Rym3KBFzz_fyiiF5S4sUVJwkcRXGEYIswenBmhXahbnEQO4tQyN5LmrhkCvKSl_tmpRSQINlNga3a2bSHaXcXldAUVXDxr8WQ1BCfbrqj5ek7qOciektS72sUbw-Z-iAHLYxA>.\r\n",
      "\r\n",
      "--------\r\n",
      "\r\n",
      "Replies to this email aren’t monitored, but if you have a question try the  \r\n",
      "Help Center  \r\n",
      "<https://www.google.com/appserve/mkt/p/AFOm0uE26Sibqz5GGfxl9Nb9t-5boXivksd4Y2CYvBVU88soODmnn9uhkju_dFVOBRJSxs9rXwvwbHPI3zN6gcTbyHKNB27cYUAKBugNG7gBFSh-wBlqowCsPHeK5BzVLr5J-PCvs3mBrsJvyu7WI2XwnukPtvMvkfHkdQ>  \r\n",
      "or post it to the Gmail Help Forum  \r\n",
      "<https://www.google.com/appserve/mkt/p/AFOm0uFIHqjuUckC3M7bTZLwIbBW6_g033WmoIyoXWwatwQZcbJuHWmHb4YxqHKjCbrjFrdeya7-1FDOUJKJY3HkzIfs--uHV_OOJGWzocpP_KtU-YTLMiKdx0fXySk2nXF8mG0dXHEqPalBupskID_fH_sopCmgaAhBkmZA7O2RRMP6AcQwynqNamHIW_n5O0j23A>  \r\n",
      "where my team and other expert users answer questions.\r\n",
      "\r\n",
      "\r\n",
      "Enjoy your new account,\r\n",
      "\r\n",
      "Andy \t\r\n",
      "\r\n",
      "\r\n",
      "Gmail Community Manager\r\n",
      "\r\n",
      "\r\n",
      "Keep in touch: Twitter  \r\n",
      "<https://www.google.com/appserve/mkt/p/AFOm0uEdpI8-lt2n56LCYrmbxLOtcocLKnsrpWZfuqUAA99eVj1Ldg_Q_RwTjv1gpF26kvzuIgx8RGoJpuTj5pxFSooMvW828LICEsqMcheq6DIb5Snx4cscq64jovkQAOTrGHWtw5fQYsAosuqn6rMZtDaWxldRcgyeC1weJ-eZ1g8>,  \r\n",
      "Facebook  \r\n",
      "<https://www.google.com/appserve/mkt/p/AFOm0uGMGpEtESPEOM3LKQXhOBrSqwRgWe4JmPFH21VZ4GAQDQI6kDTpndK7CMz_R-SgN9J6jEsJMmGdeEwma3SQttOe8-pJ7GUOBRebeABPHT2jOUA5gcc_jFuap8-UmKWBmbjMPARvr_qY1LmuwqmvM7m9OYMORWONUOyt6g>,  \r\n",
      "Google+  \r\n",
      "<https://www.google.com/appserve/mkt/p/AFOm0uEdwVI1d2spINZvygFPPlcw_smsM_w8ZsOuiZ-ELNcNKNueX8L64RDJUyZ8ZdcSDl58M-6rOBMB60urEqKx__KDm7vgzyaH7baw05K6MsPnpG2otPN6Mk_nkFPeOhC1sw_Ile8SxDOaAWRjb0SFxsFgn_RsBNkiFHWkrWgEeA>\r\n",
      "\r\n",
      "\r\n",
      "Get Gmail on the go.\r\n",
      "\r\n",
      "Google Play  \r\n",
      "<https://www.google.com/appserve/mkt/p/AFOm0uFtRO5P6WpGZI2pvy8_FsIId3Xwms5qO1VIK9_8sjZRa5shjJr-JVqMDTouc1eIGQ2f6H9ce7ow82xPYqySbeQPfcXPWLsX6lrP04_4pS8GUU_po-UVYHdnOunQAJ45bG-hjTJ0oWc9Iif4HqyHwNZryMeEuqSg5wt7OmORuIxTcI6F6tIv8bTb6qutx5HK_dQzkendchhlsb79d9NKADF86H4Q>\r\n",
      "\r\n",
      "App Store  \r\n",
      "<https://www.google.com/appserve/mkt/p/AFOm0uEbel_gTI78Kpk6YbI6BSuiPeN6r4olkQnSX47miGNtiHqYA6QdJ2bJYMD7a8RT5C5fOAhNPJ5BT8rrEBf4Imc6SeeYOCACzya-2q5E2yQwFpCt0HZX889pA2Xd_c4fxo3vBtsHqo28KwTfecykIjWB-pDk6pKNC-aV0B8aZJmhI0R_wbU>\r\n",
      "\r\n",
      "\r\n",
      "Google  \r\n",
      "<https://www.google.com/appserve/mkt/p/AFOm0uGvTbhWcuDeJl9SkBnm3cpfNB1WdT0-2-_wbLZA26QnyqIhWsBymSWsYInrru_S26EMvWC1K_RnxLUA8ZoHNLUioIQon5NdyRTdv8DQSueukPcb-IS8HNuT9vUjYj9VV4Q9TZsqVwTkLEvXs4wnGNzdx1zo39tDGQ>\r\n",
      "\r\n",
      "\r\n",
      "Google Search  \r\n",
      "<https://www.google.com/appserve/mkt/p/AFOm0uFCJNwqVetMhQp43KoippFFX7VmcC9SrL4lg8B4WLnPVMMP_3LHtlrDS0anVhBI6NMObCVMe2WOs6UPx143Eux-_QmOEyKlPRy_F9JWWWlU01YMmMbfrCX1yi2fruQ8ZivEujhozln44dpdxIlpErXXo2N_BdzTlQ>\r\n",
      "\r\n",
      "Gmail  \r\n",
      "<https://www.google.com/appserve/mkt/p/AFOm0uHK6jZfRW8JRtHr3wysQ-PA66wx4NY_uUO8GabsH4u5is_TgX2_tnvzXIPhrBjTzS927KqdjfdRhDBOWyTMsRrJW0DIlXI-7EnMbsZKimJG-Rm90bvM13S2mfR3jSPwf8erpsJPEtet3o61SHLQa6vXt3wbtp7LXKC74VT9B78rnh8>\r\n",
      "\r\n",
      "Maps  \r\n",
      "<https://www.google.com/appserve/mkt/p/AFOm0uEbteL92vYOyBY_3bd_hxuf9DzvtmzciCbF342MXcsmj9eUpG5P_aX2gNIlF72QVA89-07vjALEOR6ai8gerB-c8bNYRz-gaDQHPma5J4AWEaB86da-5q1WWw86DI0uD0Ilc1OBui0QU8E7GIpFUOGMbSOD2-z0BpljBw>\r\n",
      "\r\n",
      "YouTube  \r\n",
      "<https://www.google.com/appserve/mkt/p/AFOm0uHgtgCTTGeYAjV1QLkJwD_PaLv5_V7kS269UINBC5K54bDwKHDRvLLn8RrP_AieDueo8lVRCXWKwgVxdCUyHReLFdEGR0EcmvrgdCviauURK9w7qOp5a2ExeuIflugk8f8Hmfe-1KgnRzirkb1Tumwh4xo9ZQ>\r\n",
      "\r\n",
      "Drive  \r\n",
      "<https://www.google.com/appserve/mkt/p/AFOm0uEVcEEjN7or4N6TELU8an9FDBVWJkiqjXnYhTOEzvNcESBsZ8eaz3_nJej52JVD-oO5tpJPJVAfvbHgkOfv9w5yuykp2TM3dHdSQlRu3_Y6OylbFFStXAyAE-3zwcM61-5B9zeguecgFcA_vUbRmwhUCeX5re5ouAE>\r\n",
      "\r\n",
      "Photos  \r\n",
      "<https://www.google.com/appserve/mkt/p/AFOm0uF4FT5BQDg63WjgKMKG6lVOywdV3uPzQf0WzQVqXYonSRI3DW9zmgCXm-em3WjYlYOZDdo1D5wu3mtwMzRuDOIeVNXeHzEQnDCLKal5zIcZs1Vy-A0CIpHJj_ZULVNqSSkmqMK0u_Mqp81FGu6Zpt-N8QFRLhLRKFWAig>\r\n",
      "\r\n",
      "Play  \r\n",
      "<https://www.google.com/appserve/mkt/p/AFOm0uFvbgaQ2WajMOj6fOOi-BP5iOp41MlYYoESbyAfGOcWpqkeL6S7dMPs0W7GQtEeEoJUyaltWuQvR8tEcVoeXVplQGq7J-KS72QwroQrJpQrsWXJP7jX8Ep0kCwFbgTIK4oYhj36sVCyj6Lcjg6kTJRIEZuchx78Qz8nvqg>\r\n",
      "\r\n",
      "Chrome  \r\n",
      "<https://www.google.com/appserve/mkt/p/AFOm0uHsqiSFIKC_MrOnbKdHKTGLUiEqCLQ-y13pknyCTu1Gr5jx8HA03RfQO4CTUfQE5UMFRgdraO6MyUos_G1USeEztdZi5h3UZFOretItW-WiGGMd3iQbg1mGlAieFD7B6XKOKBVt5KZJ9SrXd22cp-1NlNhGo0iW4FB2cRtG4aM>\r\n",
      "\r\n",
      "\r\n",
      "© 2018 Google LLC 1600 Amphitheatre Parkway, Mountain View, CA 94043\r\n",
      "This email was sent to you because you created a Google Account.\r\n",
      "\n"
     ]
    }
   ],
   "source": [
    "mail.select('inbox')#this refreshes your inbox\n",
    "_, ids = mail.search(None, \"ALL\")\n",
    "for i in reversed(ids[0].split()):\n",
    "    message=email.message_from_bytes(mail.fetch(i, '(RFC822)')[1][0][1])\n",
    "    print(message.get(\"from\"), read_text(message))"
   ]
  },
  {
   "cell_type": "markdown",
   "metadata": {},
   "source": [
    "That's it.  \n",
    "The email library is pretty crap but go explore. I think someone should really make a better version like requests did for http"
   ]
  },
  {
   "cell_type": "code",
   "execution_count": null,
   "metadata": {
    "collapsed": true
   },
   "outputs": [],
   "source": []
  }
 ],
 "metadata": {
  "kernelspec": {
   "display_name": "Python 3",
   "language": "python",
   "name": "python3"
  },
  "language_info": {
   "codemirror_mode": {
    "name": "ipython",
    "version": 3
   },
   "file_extension": ".py",
   "mimetype": "text/x-python",
   "name": "python",
   "nbconvert_exporter": "python",
   "pygments_lexer": "ipython3",
   "version": "3.4.5"
  }
 },
 "nbformat": 4,
 "nbformat_minor": 2
}
